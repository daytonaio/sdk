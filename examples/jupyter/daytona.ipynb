{
 "cells": [
  {
   "cell_type": "markdown",
   "metadata": {},
   "source": [
    "# Daytona SDK Examples"
   ]
  },
  {
   "cell_type": "markdown",
   "metadata": {},
   "source": [
    "Load the Daytona SDK and create a sandbox"
   ]
  },
  {
   "cell_type": "code",
   "execution_count": 29,
   "metadata": {},
   "outputs": [],
   "source": [
    "from daytona_sdk import Daytona\n",
    "from pprint import pp\n",
    "\n",
    "daytona = Daytona()"
   ]
  },
  {
   "cell_type": "code",
   "execution_count": null,
   "metadata": {},
   "outputs": [],
   "source": [
    "sandbox = daytona.create()\n",
    "\n",
    "print(sandbox.id)"
   ]
  },
  {
   "cell_type": "markdown",
   "metadata": {},
   "source": [
    "## Code and Command Execution\n",
    "\n",
    "### Code Execution"
   ]
  },
  {
   "cell_type": "code",
   "execution_count": null,
   "metadata": {},
   "outputs": [],
   "source": [
    "response = sandbox.process.code_run('print(\"Hello World!\")')\n",
    "if response.exit_code != 0:\n",
    "    print(f\"Error: {response.exit_code} {response.result}\")\n",
    "else:\n",
    "    print(response.result)"
   ]
  },
  {
   "cell_type": "markdown",
   "metadata": {},
   "source": [
    "### Command Execution"
   ]
  },
  {
   "cell_type": "code",
   "execution_count": null,
   "metadata": {},
   "outputs": [],
   "source": [
    "response = sandbox.process.exec('echo \"Hello World from exec!\"', cwd=\"/home/daytona\", timeout=10)\n",
    "if response.exit_code != 0:\n",
    "    print(f\"Error: {response.exit_code} {response.result}\")\n",
    "else:\n",
    "    print(response.result)"
   ]
  },
  {
   "cell_type": "markdown",
   "metadata": {},
   "source": [
    "### Exec Sessions\n",
    "\n",
    "Sessions can be used to execute multiple commands in a single shell that preserves context between commands."
   ]
  },
  {
   "cell_type": "code",
   "execution_count": null,
   "metadata": {},
   "outputs": [],
   "source": [
    "from daytona_sdk import SessionExecuteRequest\n",
    "\n",
    "exec_session_id = \"exec-session-1\"\n",
    "sandbox.process.create_session(exec_session_id)\n",
    "session = sandbox.process.get_session(exec_session_id)\n",
    "pp(session)\n",
    "print()\n",
    "\n",
    "# Execute the first command in the session\n",
    "execCommand1 = sandbox.process.execute_session_command(exec_session_id, SessionExecuteRequest(\n",
    "    command=\"export FOO=BAR\"\n",
    "))\n",
    "if execCommand1.exit_code != 0:\n",
    "    print(f\"Error: {execCommand1.exit_code} {execCommand1.output}\")\n",
    "\n",
    "# Get the command details\n",
    "session_command = sandbox.process.get_session_command(exec_session_id, execCommand1.cmd_id)\n",
    "pp(session_command)\n",
    "print()\n",
    "\n",
    "# Execute a second command in the session and see that the environment variable is set\n",
    "execCommand2 = sandbox.process.execute_session_command(exec_session_id, SessionExecuteRequest(\n",
    "    command=\"echo $FOO\"\n",
    "))\n",
    "if execCommand2.exit_code != 0:\n",
    "    print(f\"Error: {execCommand2.exit_code} {execCommand2.output}\")\n",
    "else:\n",
    "    print(f\"Output: {execCommand2.output}\\n\")\n",
    "\n",
    "logs = sandbox.process.get_session_command_logs(exec_session_id, execCommand2.cmd_id)\n",
    "print(f\"Logs: {logs}\")"
   ]
  },
  {
   "cell_type": "markdown",
   "metadata": {},
   "source": [
    "## File System\n",
    "\n",
    "- List Files\n",
    "- Create Folder\n",
    "- Upload File\n",
    "- Download File\n",
    "- Replace in Files\n",
    "- Search Files\n",
    "- Get File Info\n",
    "- Move Files\n",
    "- Delete File\n",
    "- Set File Permissions"
   ]
  },
  {
   "cell_type": "code",
   "execution_count": null,
   "metadata": {},
   "outputs": [],
   "source": [
    "import os\n",
    "# Get workspace root directory\n",
    "root_dir = sandbox.get_workspace_root_dir()\n",
    "\n",
    "# List files in the workspace\n",
    "files = sandbox.fs.list_files(root_dir)\n",
    "pp(files)\n",
    "\n",
    "# Create a new directory in the workspace\n",
    "new_dir = os.path.join(root_dir, \"new-dir\")\n",
    "sandbox.fs.create_folder(new_dir, \"755\")\n",
    "\n",
    "file_path = os.path.join(new_dir, \"data.txt\")\n",
    "\n",
    "# Add a new file to the workspace\n",
    "file_content = b\"Hello, World!\"\n",
    "sandbox.fs.upload_file(file_path, file_content)\n",
    "\n",
    "# Search for the file we just added\n",
    "matches = sandbox.fs.find_files(root_dir, \"World!\")\n",
    "pp(matches)\n",
    "\n",
    "# Replace the contents of the file\n",
    "sandbox.fs.replace_in_files([file_path], \"Hello, World!\", \"Goodbye, World!\")\n",
    "\n",
    "# Read the file\n",
    "downloaded_file = sandbox.fs.download_file(file_path)\n",
    "print(\"File content:\", downloaded_file.decode(\"utf-8\"))\n",
    "\n",
    "# Change the file permissions\n",
    "sandbox.fs.set_file_permissions(file_path, mode=\"777\")\n",
    "\n",
    "# Get file info\n",
    "file_info = sandbox.fs.get_file_info(file_path)\n",
    "pp(file_info)  # Should show the new permissions\n",
    "\n",
    "# Move the file to the new location\n",
    "new_file_path = os.path.join(root_dir, \"moved-data.txt\")\n",
    "sandbox.fs.move_files(file_path, new_file_path)\n",
    "\n",
    "# Find the file in the new location\n",
    "search_results = sandbox.fs.search_files(root_dir, \"moved-data.txt\")\n",
    "pp(search_results)\n",
    "\n",
    "# Delete the file\n",
    "sandbox.fs.delete_file(new_file_path)"
   ]
  },
  {
   "cell_type": "markdown",
   "metadata": {},
   "source": [
    "## Git\n",
    "\n",
    "- Clone Repository\n",
    "- Pull Repository\n",
    "- List Branches\n",
    "- Delete a Branch\n",
    "- Create a Branch\n",
    "- Checkout a Branch\n",
    "- Git Log\n",
    "- Git Status\n",
    "- Git Add\n",
    "- Git Commit"
   ]
  },
  {
   "cell_type": "code",
   "execution_count": null,
   "metadata": {},
   "outputs": [],
   "source": [
    "root_dir = sandbox.get_workspace_root_dir()\n",
    "project_dir = os.path.join(root_dir, \"learn-typescript\")\n",
    "\n",
    "# Clone the repository\n",
    "sandbox.git.clone(\n",
    "    \"https://github.com/panaverse/learn-typescript\", project_dir, \"master\"\n",
    ")\n",
    "\n",
    "sandbox.git.pull(project_dir)\n",
    "\n",
    "branches = sandbox.git.branches(project_dir)\n",
    "pp(branches)"
   ]
  },
  {
   "cell_type": "markdown",
   "metadata": {},
   "source": [
    "## LSP\n",
    "\n",
    "- Start Language Server\n",
    "- Notify Language Server of Document Change\n",
    "- Get Completions\n",
    "- Document Symbols\n",
    "- Workspace Symbols"
   ]
  },
  {
   "cell_type": "code",
   "execution_count": null,
   "metadata": {},
   "outputs": [],
   "source": [
    "root_dir = sandbox.get_workspace_root_dir()\n",
    "project_dir = os.path.join(root_dir, \"learn-typescript\")\n",
    "\n",
    "# Search for the file we want to work on\n",
    "matches = sandbox.fs.find_files(project_dir, \"var obj1 = new Base();\")\n",
    "print(\"Matches:\", matches)\n",
    "\n",
    "# Start the language server\n",
    "lsp = sandbox.create_lsp_server(\"typescript\", project_dir)\n",
    "lsp.start()\n",
    "\n",
    "# Notify the language server of the document we want to work on\n",
    "lsp.did_open(matches[0].file)\n",
    "\n",
    "# Get symbols in the document\n",
    "symbols = lsp.document_symbols(matches[0].file)\n",
    "print(\"Symbols:\", symbols)\n",
    "\n",
    "# Fix the error in the document\n",
    "sandbox.fs.replace_in_files(\n",
    "    [matches[0].file], \"var obj1 = new Base();\", \"var obj1 = new E();\"\n",
    ")\n",
    "\n",
    "# Notify the language server of the document change\n",
    "lsp.did_close(matches[0].file)\n",
    "lsp.did_open(matches[0].file)\n",
    "\n",
    "# Get completions at a specific position\n",
    "completions = lsp.completions(matches[0].file, {\"line\": 12, \"character\": 18})\n",
    "print(\"Completions:\", completions)"
   ]
  },
  {
   "cell_type": "markdown",
   "metadata": {},
   "source": [
    "## Sandbox Management\n",
    "\n",
    "- List Sandboxes\n",
    "- Stop Sandbox\n",
    "- Start Sandbox\n",
    "- Remove Sandbox"
   ]
  },
  {
   "cell_type": "code",
   "execution_count": null,
   "metadata": {},
   "outputs": [],
   "source": [
    "sandboxes = daytona.list()\n",
    "print(f\"Total sandboxes count: {len(sandboxes)}\")\n",
    "\n",
    "for s in sandboxes:\n",
    "    print(s.id)\n",
    "    pp(s.info())\n",
    "    print()"
   ]
  },
  {
   "cell_type": "code",
   "execution_count": 38,
   "metadata": {},
   "outputs": [],
   "source": [
    "daytona.stop(sandbox)"
   ]
  },
  {
   "cell_type": "code",
   "execution_count": 39,
   "metadata": {},
   "outputs": [],
   "source": [
    "daytona.start(sandbox)"
   ]
  },
  {
   "cell_type": "code",
   "execution_count": 40,
   "metadata": {},
   "outputs": [],
   "source": [
    "daytona.remove(sandbox)"
   ]
  }
 ],
 "metadata": {
  "kernelspec": {
   "display_name": "Python 3",
   "language": "python",
   "name": "python3"
  },
  "language_info": {
   "codemirror_mode": {
    "name": "ipython",
    "version": 3
   },
   "file_extension": ".py",
   "mimetype": "text/x-python",
   "name": "python",
   "nbconvert_exporter": "python",
   "pygments_lexer": "ipython3",
   "version": "3.12.5"
  }
 },
 "nbformat": 4,
 "nbformat_minor": 2
}
