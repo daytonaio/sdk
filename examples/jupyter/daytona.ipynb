{
 "cells": [
  {
   "cell_type": "markdown",
   "metadata": {},
   "source": [
    "# Daytona SDK Examples"
   ]
  },
  {
   "cell_type": "markdown",
   "metadata": {},
   "source": [
    "Load the Daytona SDK and create a sandbox"
   ]
  },
  {
   "cell_type": "code",
   "execution_count": 1,
   "metadata": {},
   "outputs": [],
   "source": [
    "import base64\n",
    "import io\n",
    "import os\n",
    "from pprint import pp\n",
    "\n",
    "import matplotlib.pyplot as plt\n",
    "from daytona_sdk import BarChart, CompositeChart, Daytona, LineChart, SessionExecuteRequest\n",
    "\n",
    "daytona = Daytona()"
   ]
  },
  {
   "cell_type": "code",
   "execution_count": 2,
   "metadata": {},
   "outputs": [
    {
     "name": "stdout",
     "output_type": "stream",
     "text": [
      "1638856c-2230-431a-bc3c-c788294274a2\n"
     ]
    }
   ],
   "source": [
    "sandbox = daytona.create()\n",
    "\n",
    "print(sandbox.id)"
   ]
  },
  {
   "cell_type": "markdown",
   "metadata": {},
   "source": [
    "## Code and Command Execution\n",
    "\n",
    "### Code Execution"
   ]
  },
  {
   "cell_type": "code",
   "execution_count": 3,
   "metadata": {},
   "outputs": [
    {
     "name": "stdout",
     "output_type": "stream",
     "text": [
      "Hello World!\n",
      "\n"
     ]
    }
   ],
   "source": [
    "response = sandbox.process.code_run('print(\"Hello World!\")')\n",
    "if response.exit_code != 0:\n",
    "    print(f\"Error: {response.exit_code} {response.result}\")\n",
    "else:\n",
    "    print(response.result)"
   ]
  },
  {
   "cell_type": "markdown",
   "metadata": {},
   "source": [
    "### Command Execution"
   ]
  },
  {
   "cell_type": "code",
   "execution_count": 4,
   "metadata": {},
   "outputs": [
    {
     "name": "stdout",
     "output_type": "stream",
     "text": [
      "Hello World from exec!\n",
      "\n"
     ]
    }
   ],
   "source": [
    "response = sandbox.process.exec('echo \"Hello World from exec!\"', cwd=\"/home/daytona\", timeout=10)\n",
    "if response.exit_code != 0:\n",
    "    print(f\"Error: {response.exit_code} {response.result}\")\n",
    "else:\n",
    "    print(response.result)"
   ]
  },
  {
   "cell_type": "markdown",
   "metadata": {},
   "source": [
    "### Exec Sessions\n",
    "\n",
    "Sessions can be used to execute multiple commands in a single shell that preserves context between commands."
   ]
  },
  {
   "cell_type": "code",
   "execution_count": 5,
   "metadata": {},
   "outputs": [
    {
     "name": "stdout",
     "output_type": "stream",
     "text": [
      "Session(session_id='exec-session-1', commands=None, additional_properties={})\n",
      "\n",
      "Command(id='140814c1-bb4f-4e7a-b66d-d698fd131aa2', command='export FOO=BAR', exit_code=0, additional_properties={})\n",
      "\n",
      "Output: BAR\n",
      "\n",
      "\n",
      "Logs: BAR\n",
      "\n"
     ]
    }
   ],
   "source": [
    "exec_session_id = \"exec-session-1\"\n",
    "sandbox.process.create_session(exec_session_id)\n",
    "session = sandbox.process.get_session(exec_session_id)\n",
    "pp(session)\n",
    "print()\n",
    "\n",
    "# Execute the first command in the session\n",
    "execCommand1 = sandbox.process.execute_session_command(exec_session_id, SessionExecuteRequest(command=\"export FOO=BAR\"))\n",
    "if execCommand1.exit_code != 0:\n",
    "    print(f\"Error: {execCommand1.exit_code} {execCommand1.output}\")\n",
    "\n",
    "# Get the command details\n",
    "session_command = sandbox.process.get_session_command(exec_session_id, execCommand1.cmd_id)\n",
    "pp(session_command)\n",
    "print()\n",
    "\n",
    "# Execute a second command in the session and see that the environment variable is set\n",
    "execCommand2 = sandbox.process.execute_session_command(exec_session_id, SessionExecuteRequest(command=\"echo $FOO\"))\n",
    "if execCommand2.exit_code != 0:\n",
    "    print(f\"Error: {execCommand2.exit_code} {execCommand2.output}\")\n",
    "else:\n",
    "    print(f\"Output: {execCommand2.output}\\n\")\n",
    "\n",
    "logs = sandbox.process.get_session_command_logs(exec_session_id, execCommand2.cmd_id)\n",
    "print(f\"Logs: {logs}\")"
   ]
  },
  {
   "cell_type": "markdown",
   "metadata": {},
   "source": [
    "### Charts\n",
    "\n",
    "Daytona automatically detects any plot creations while running remote code and saves them in `response.artifacts.charts`. This feature is available only for **Matplotlib** plots."
   ]
  },
  {
   "cell_type": "code",
   "execution_count": 6,
   "metadata": {},
   "outputs": [
    {
     "data": {
      "image/png": "[encoded data removed]",
      "text/plain": [
       "<Figure size 640x480 with 1 Axes>"
      ]
     },
     "metadata": {},
     "output_type": "display_data"
    },
    {
     "name": "stdout",
     "output_type": "stream",
     "text": [
      "type: bar\n",
      "title: Bar Chart Example\n",
      "x_label: Category\n",
      "y_label: Value\n",
      "elements:\n",
      "\n",
      "\tlabel: A\n",
      "\tgroup: _container0\n",
      "\tvalue: 20\n",
      "\n",
      "\tlabel: B\n",
      "\tgroup: _container0\n",
      "\tvalue: 35\n",
      "\n",
      "\tlabel: C\n",
      "\tgroup: _container0\n",
      "\tvalue: 30\n",
      "\n",
      "\tlabel: D\n",
      "\tgroup: _container0\n",
      "\tvalue: 10\n"
     ]
    }
   ],
   "source": [
    "code = \"\"\"\n",
    "import matplotlib.pyplot as plt\n",
    "\n",
    "# Data\n",
    "categories = ['A', 'B', 'C', 'D']\n",
    "values = [20, 35, 30, 10]\n",
    "\n",
    "# Plot\n",
    "plt.figure(figsize=(8, 5))\n",
    "plt.bar(categories, values, color='skyblue', edgecolor='black')\n",
    "\n",
    "# Labels and title\n",
    "plt.xlabel('Category')\n",
    "plt.ylabel('Value')\n",
    "plt.title('Bar Chart Example')\n",
    "\n",
    "plt.grid(axis='y', linestyle='--', alpha=0.7)\n",
    "plt.tight_layout()\n",
    "plt.show()\n",
    "\"\"\"\n",
    "\n",
    "response = sandbox.process.code_run(code)\n",
    "chart = response.artifacts.charts[0]\n",
    "\n",
    "img_data = base64.b64decode(chart.png)\n",
    "img = plt.imread(io.BytesIO(img_data))\n",
    "plt.imshow(img)\n",
    "plt.axis(\"off\")\n",
    "plt.show()\n",
    "\n",
    "print(f\"type: {chart.type}\")\n",
    "print(f\"title: {chart.title}\")\n",
    "if isinstance(chart, BarChart):\n",
    "    print(f\"x_label: {chart.x_label}\")\n",
    "    print(f\"y_label: {chart.y_label}\")\n",
    "    print(\"elements:\")\n",
    "    for element in chart.elements:\n",
    "        print(f\"\\n\\tlabel: {element.label}\")\n",
    "        print(f\"\\tgroup: {element.group}\")\n",
    "        print(f\"\\tvalue: {element.value}\")"
   ]
  },
  {
   "cell_type": "markdown",
   "metadata": {},
   "source": [
    "#### Composite Charts\n",
    "All subplots are included as individual `Chart` instances within the `elements` list of a parent `Chart` of type `CompositeChart`."
   ]
  },
  {
   "cell_type": "code",
   "execution_count": 7,
   "metadata": {},
   "outputs": [
    {
     "data": {
      "image/png": "[encoded data removed]",
      "text/plain": [
       "<Figure size 640x480 with 1 Axes>"
      ]
     },
     "metadata": {},
     "output_type": "display_data"
    },
    {
     "name": "stdout",
     "output_type": "stream",
     "text": [
      "type: composite_chart\n",
      "title: Composite Chart Example\n",
      "\n",
      "\ttype: bar\n",
      "\ttitle: Bar Chart\n",
      "\tx_label: Category\n",
      "\ty_label: Value\n",
      "\telements:\n",
      "\n",
      "\t\tlabel: A\n",
      "\t\tgroup: _container0\n",
      "\t\tvalue: 20\n",
      "\n",
      "\t\tlabel: B\n",
      "\t\tgroup: _container0\n",
      "\t\tvalue: 35\n",
      "\n",
      "\t\tlabel: C\n",
      "\t\tgroup: _container0\n",
      "\t\tvalue: 30\n",
      "\n",
      "\t\tlabel: D\n",
      "\t\tgroup: _container0\n",
      "\t\tvalue: 10\n",
      "\n",
      "\ttype: line\n",
      "\ttitle: Line Chart with 3 Lines\n",
      "\tx_label: X-axis\n",
      "\ty_label: Y-axis\n",
      "\tx_ticks: [-2.0, 0.0, 2.0, 4.0, 6.0, 8.0, 10.0, 12.0]\n",
      "\tx_tick_labels: ['−2', '0', '2', '4', '6', '8', '10', '12']\n",
      "\tx_scale: linear\n",
      "\ty_ticks: [-5.0, -4.0, -3.0, -2.0, -1.0, 0.0, 1.0, 2.0, 3.0]\n",
      "\ty_tick_labels: ['−5', '−4', '−3', '−2', '−1', '0', '1', '2', '3']\n",
      "\ty_scale: linear\n",
      "\telements:\n",
      "\n",
      "\t\tlabel: sin(x)\n",
      "\t\tpoints: [[0.0, 0.0], [0.10101010101010101, 0.1008384202581046], [0.20202020202020202, 0.2006488565226854], [0.30303030303030304, 0.2984138044476411], [0.40404040404040403, 0.3931366121483298], [0.5050505050505051, 0.48385164043793466], [0.6060606060606061, 0.5696341069089657], [0.7070707070707071, 0.6496095135057065], [0.8080808080808081, 0.7229625614794605], [0.9090909090909091, 0.7889454628442574], [1.0101010101010102, 0.8468855636029834], [1.1111111111111112, 0.8961922010299563], [1.2121212121212122, 0.9363627251042848], [1.3131313131313131, 0.9669876227092996], [1.4141414141414141, 0.9877546923600838], [1.5151515151515151, 0.9984522269003895], [1.6161616161616161, 0.9989711717233568], [1.7171717171717171, 0.9893062365143401], [1.8181818181818181, 0.9695559491823237], [1.9191919191919191, 0.9399216514301312], [2.0202020202020203, 0.9007054462029555], [2.121212121212121, 0.8523071179396752], [2.2222222222222223, 0.7952200570230491], [2.323232323232323, 0.7300262299764464], [2.4242424242424243, 0.6573902466827755], [2.525252525252525, 0.5780525851065732], [2.6262626262626263, 0.4928220425889235], [2.727272727272727, 0.40256749066949654], [2.8282828282828283, 0.30820901749007684], [2.929292929292929, 0.2107085480771929], [3.0303030303030303, 0.11106003812412972], [3.131313131313131, 0.010279341240534697], [3.2323232323232323, -0.09060614703340773], [3.3333333333333335, -0.19056796287548539], [3.4343434343434343, -0.28858705872043244], [3.5353535353535355, -0.38366419180611233], [3.6363636363636362, -0.47483011082223947], [3.7373737373737375, -0.5611554368152017], [3.8383838383838382, -0.6417601376193878], [3.9393939393939394, -0.7158224992291902], [4.040404040404041, -0.7825875026542022], [4.141414141414141, -0.8413745208608701], [4.242424242424242, -0.8915842573351402], [4.343434343434343, -0.9327048555318336], [4.444444444444445, -0.9643171169287782], [4.545454545454545, -0.9860987744909296], [4.646464646464646, -0.9978277779792126], [4.747474747474747, -0.9993845576124357], [4.848484848484849, -0.9907532430056771], [4.94949494949495, -0.9720218249588334], [5.05050505050505, -0.9433812584459996], [5.151515151515151, -0.9051235159501367], [5.252525252525253, -0.8576386109880517], [5.353535353535354, -0.8014106221689697], [5.454545454545454, -0.7370127583189133], [5.555555555555555, -0.6651015149788224], [5.656565656565657, -0.586409981847235], [5.757575757575758, -0.5017403693939113], [5.858585858585858, -0.4119558308308628], [5.959595959595959, -0.31797166281061867], [6.0606060606060606, -0.22074597455506334], [6.161616161616162, -0.12126992053716677], [6.262626262626262, -0.020557596287260064], [6.363636363636363, 0.08036429967028173], [6.4646464646464645, 0.18046693235991093], [6.565656565656566, 0.27872981867755725], [6.666666666666667, 0.37415123057121996], [6.767676767676767, 0.4657584070256517], [6.8686868686868685, 0.5526174707464059], [6.96969696969697, 0.6338429484489058], [7.070707070707071, 0.7086067976992182], [7.171717171717171, 0.7761468482835805], [7.2727272727272725, 0.8357745720522589], [7.373737373737374, 0.8868821020290788], [7.474747474747475, 0.9289484292312513], [7.575757575757575, 0.9615447140268235], [7.6767676767676765, 0.9843386578838236], [7.777777777777778, 0.9970978909438748], [7.878787878787879, 0.9996923408861117], [7.979797979797979, 0.9920955589323228], [8.080808080808081, 0.9743849894755358], [8.181818181818182, 0.9467411805833543], [8.282828282828282, 0.9094459434244625], [8.383838383838384, 0.8628794793817836], [8.484848484848484, 0.8075165041395626], [8.585858585858587, 0.7439214082568444], [8.686868686868687, 0.6727425035622647], [8.787878787878787, 0.5947054140244975], [8.88888888888889, 0.510605678474283], [8.98989898989899, 0.4213006405886069], [9.09090909090909, 0.32770070881349983], [9.191919191919192, 0.23076007532505177], [9.292929292929292, 0.13146698864295842], [9.393939393939394, 0.03083367906114098], [9.494949494949495, -0.07011396040064677], [9.595959595959595, -0.1703468323280965], [9.696969696969697, -0.26884312591038406], [9.797979797979798, -0.3645987336558887], [9.8989898989899, -0.45663748763377376], [10.0, -0.5440211108893698]]\n",
      "\n",
      "\t\tlabel: cos(x)\n",
      "\t\tpoints: [[0.0, 1.0], [0.10101010101010101, 0.9949028158568303], [0.20202020202020202, 0.9796632259996998], [0.30303030303030304, 0.9544365884201449], [0.40404040404040403, 0.9194800727522776], [0.5050505050505051, 0.8751500385908233], [0.6060606060606061, 0.82189840263017], [0.7070707070707071, 0.7602680316591506], [0.8080808080808081, 0.6908872083770674], [0.9090909090909091, 0.6144632264484674], [1.0101010101010102, 0.5317751800910392], [1.1111111111111112, 0.4436660217022285], [1.2121212121212122, 0.3510339684920502], [1.3131313131313131, 0.25482334572604864], [1.4141414141414141, 0.15601495992575853], [1.5151515151515151, 0.05561610016580674], [1.6161616161616161, -0.04534973060188524], [1.7171717171717171, -0.1458532495141353], [1.8181818181818181, -0.24486988668507892], [1.9191919191919191, -0.3413902300489206], [2.0202020202020203, -0.43443031567828566], [2.121212121212121, -0.5230416586748752], [2.2222222222222223, -0.6063209223738354], [2.323232323232323, -0.6834191272904034], [2.4242424242424243, -0.7535503059294446], [2.525252525252525, -0.815999515227557], [2.6262626262626263, -0.8701301249459654], [2.727272727272727, -0.9153903077136358], [2.8282828282828283, -0.9513186645587279], [2.929292929292929, -0.9775489285796396], [3.0303030303030303, -0.993813698804694], [3.131313131313131, -0.9999471661761239], [3.2323232323232323, -0.9958868038686729], [3.3333333333333335, -0.981674004711079], [3.4343434343434343, -0.9574536592123347], [3.5353535353535355, -0.9234726784944765], [3.6363636363636362, -0.8800774771896732], [3.7373737373737375, -0.8277104419618857], [3.8383838383838382, -0.7669054216542901], [3.9393939393939394, -0.69828228503756], [4.040404040404041, -0.6225406016393301], [4.141414141414141, -0.5404525100747903], [4.242424242424242, -0.45285484658127084], [4.343434343434343, -0.3606406140014481], [4.444444444444445, -0.2647498781834829], [4.545454545454545, -0.16616018460355267], [4.646464646464646, -0.06587659290724678], [4.747474747474747, 0.03507856903860484], [4.848484848484849, 0.13567612713271912], [4.94949494949495, 0.23489055281917826], [5.05050505050505, 0.33171041770321597], [5.151515151515151, 0.42514870442477243], [5.252525252525253, 0.5142528686769626], [5.353535353535354, 0.5981145497935533], [5.454545454545454, 0.6758788309121296], [5.555555555555555, 0.7467529543114478], [5.656565656565657, 0.810014403075603], [5.757575757575758, 0.865018266697566], [5.858585858585858, 0.9112038155344026], [5.959595959595959, 0.9481002170917641], [6.0606060606060606, 0.9753313358637337], [6.161616161616162, 0.9926195677967009], [6.262626262626262, 0.9997886702873213], [6.363636363636363, 0.9967655588645231], [6.4646464646464645, 0.983581052239521], [6.565656565656566, 0.9603695581285238], [6.666666666666667, 0.9273677030509753], [6.767676767676767, 0.8849119200716687], [6.8686868686868685, 0.8334350190781794], [6.96969696969697, 0.7734617745574747], [7.070707070707071, 0.7056035758515253], [7.171717171717171, 0.6305521944291881], [7.2727272727272725, 0.5490727317130796], [7.373737373737374, 0.4619958193539013], [7.474747474747475, 0.3702091514654802], [7.575757575757575, 0.2746484351440477], [7.6767676767676765, 0.17628785152548898], [7.777777777777778, 0.07613012462407193], [7.878787878787879, -0.02480370080544784], [7.979797979797979, -0.12548466817409182], [8.080808080808081, -0.22488639862108173], [8.181818181818182, -0.3219955542979381], [8.282828282828282, -0.41582216870771727], [8.383838383838384, -0.5054097387880672], [8.484848484848484, -0.5898449758557073], [8.585858585858587, -0.6682671160076287], [8.686868686868687, -0.7398766950653171], [8.787878787878787, -0.80394369860703], [8.88888888888889, -0.859815004003662], [8.98989898989899, -0.9069210385913591], [9.09090909090909, -0.9447815861050266], [9.191919191919192, -0.973010682179788], [9.292929292929292, -0.9913205490138658], [9.393939393939394, -0.9995245290814802], [9.494949494949495, -0.9975389879884077], [9.595959595959595, -0.9853841670717991], [9.696969696969697, -0.9631839770525324], [9.797979797979798, -0.9311647348436916], [9.8989898989899, -0.8896528563926016], [10.0, -0.8390715290764524]]\n",
      "\n",
      "\t\tlabel: 0.1 * tan(x)\n",
      "\t\tpoints: [[0.0, 0.0], [0.10101010101010101, 0.010135504558931271], [0.20202020202020202, 0.020481411488925984], [0.30303030303030304, 0.03126596445150935], [0.40404040404040403, 0.04275640373276986], [0.5050505050505051, 0.05528784998022032], [0.6060606060606061, 0.06930711935758369], [0.7070707070707071, 0.08544480189283359], [0.8080808080808081, 0.10464263235930216], [0.9090909090909091, 0.12839587934403804], [1.0101010101010102, 0.15925631644899219], [1.1111111111111112, 0.20199703317182266], [1.2121212121212122, 0.26674419262803917], [1.3131313131313131, 0.37947371735275504], [1.4141414141414141, 0.6331153710068048], [1.5151515151515151, 1.7952575314049917], [1.6161616161616161, -2.202816110404476], [1.7171717171717171, -0.6782887867153498], [1.8181818181818181, -0.3959473997834799], [1.9191919191919191, -0.27532177804134644], [2.0202020202020203, -0.20733024692272317], [2.121212121212121, -0.16295205244243707], [2.2222222222222223, -0.13115497547233665], [2.323232323232323, -0.10681969538529441], [2.4242424242424243, -0.08723906572792599], [2.525252525252525, -0.07083981967138452], [2.6262626262626263, -0.056637740547085126], [2.727272727272727, -0.043977687689854036], [2.8282828282828283, -0.0323980837307592], [2.929292929292929, -0.021554782775256937], [3.0303030303030303, -0.01117513657315318], [3.131313131313131, -0.0010279884366134766], [3.2323232323232323, 0.009098036712750331], [3.3333333333333335, 0.019412550598360025], [3.4343434343434343, 0.03014109935700109], [3.5353535353535355, 0.041545808635247795], [3.6363636363636362, 0.05395321697568051], [3.7373737373737375, 0.06779610457554694], [3.8383838383838382, 0.0836817838939055], [3.9393939393939394, 0.10251190880357029], [4.040404040404041, 0.12570866873476558], [4.141414141414141, 0.15567963977897648], [4.242424242424242, 0.19688080277068065], [4.343434343434343, 0.2586244641675573], [4.444444444444445, 0.36423703895359894], [4.545454545454545, 0.5934627340741688], [4.646464646464646, 1.514692448324003], [4.747474747474747, -2.8489889553721195], [4.848484848484849, -0.7302340241747296], [4.94949494949495, -0.4138190375443103], [5.05050505050505, -0.28439904449731535], [5.151515151515151, -0.21289574836521538], [5.252525252525253, -0.1667737144946863], [5.353535353535354, -0.1339894878741182], [5.454545454545454, -0.10904510166774727], [5.555555555555555, -0.08906580297256234], [5.656565656565657, -0.07239500675798506], [5.757575757575758, -0.058003442090238944], [5.858585858585858, -0.045210064291627126], [5.959595959595959, -0.03353776922296001], [6.0606060606060606, -0.02263292139174173], [6.161616161616162, -0.012217159974626267], [6.262626262626262, -0.0020561941636478218], [6.363636363636363, 0.008062507673502448], [6.4646464646464645, 0.018347947222956847], [6.565656565656566, 0.02902318345249502], [6.666666666666667, 0.0403455101294005], [6.767676767676767, 0.05263330693838208], [6.8686868686868685, 0.06630600563888332], [6.96969696969697, 0.08194883952882483], [7.070707070707071, 0.10042562452210771], [7.171717171717171, 0.12309002413133983], [7.2727272727272725, 0.15221563989249365], [7.373737373737374, 0.19196756006783322], [7.474747474747475, 0.2509253014286629], [7.575757575757575, 0.3501001975571106], [7.6767676767676765, 0.5583701028550461], [7.777777777777778, 1.3097284364993644], [7.878787878787879, -4.030416060600688], [7.979797979797979, -0.7906109753232434], [8.080808080808081, -0.43327875560731804], [8.181818181818182, -0.29402305961881314], [8.282828282828282, -0.2187103074015554], [8.383838383838384, -0.17072870052937658], [8.484848484848484, -0.1369031757824286], [8.585858585858587, -0.1113209658887887], [8.686868686868687, -0.09092630002393498], [8.787878787878787, -0.07397351519203725], [8.88888888888889, -0.059385527828275525], [8.98989898989899, -0.046453949424635266], [9.09090909090909, -0.03468534036152045], [9.191919191919192, -0.02371608858477189], [9.292929292929292, -0.01326180404247018], [9.393939393939394, -0.003084834655281127], [9.494949494949495, 0.00702869373978409], [9.595959595959595, 0.017287352285586737], [9.696969696969697, 0.027911918420100674], [9.797979797979798, 0.039155126908569135], [9.8989898989899, 0.05132760316033435], [10.0, 0.06483608274590867]]\n"
     ]
    }
   ],
   "source": [
    "code = \"\"\"\n",
    "import matplotlib.pyplot as plt\n",
    "import numpy as np\n",
    "\n",
    "# Data for bar chart\n",
    "categories = ['A', 'B', 'C', 'D']\n",
    "bar_values = [20, 35, 30, 10]\n",
    "\n",
    "# Data for line chart\n",
    "x = np.linspace(0, 10, 100)\n",
    "y1 = np.sin(x)\n",
    "y2 = np.cos(x)\n",
    "y3 = np.tan(x) * 0.1  # scaled to fit nicely\n",
    "\n",
    "# Create a figure with 2 subplots\n",
    "fig, (ax1, ax2) = plt.subplots(1, 2, figsize=(14, 5))\n",
    "\n",
    "# --- Bar Chart (subplot 1) ---\n",
    "ax1.bar(categories, bar_values, color='skyblue', edgecolor='black')\n",
    "ax1.set_title('Bar Chart')\n",
    "ax1.set_xlabel('Category')\n",
    "ax1.set_ylabel('Value')\n",
    "ax1.grid(axis='y', linestyle='--', alpha=0.7)\n",
    "\n",
    "# --- Line Chart with 3 lines (subplot 2) ---\n",
    "ax2.plot(x, y1, label='sin(x)', linewidth=2)\n",
    "ax2.plot(x, y2, label='cos(x)', linewidth=2)\n",
    "ax2.plot(x, y3, label='0.1 * tan(x)', linewidth=2)\n",
    "ax2.set_title('Line Chart with 3 Lines')\n",
    "ax2.set_xlabel('X-axis')\n",
    "ax2.set_ylabel('Y-axis')\n",
    "ax2.grid(True, linestyle='--', alpha=0.7)\n",
    "ax2.legend()\n",
    "\n",
    "# Add main title\n",
    "fig.suptitle('Composite Chart Example', fontsize=16)\n",
    "\n",
    "# Adjust layout and show\n",
    "plt.tight_layout()\n",
    "plt.show()\n",
    "\"\"\"\n",
    "\n",
    "response = sandbox.process.code_run(code)\n",
    "chart = response.artifacts.charts[0]\n",
    "\n",
    "img_data = base64.b64decode(chart.png)\n",
    "img = plt.imread(io.BytesIO(img_data))\n",
    "plt.imshow(img)\n",
    "plt.axis(\"off\")\n",
    "plt.show()\n",
    "\n",
    "print(f\"type: {chart.type}\")\n",
    "print(f\"title: {chart.title}\")\n",
    "if isinstance(chart, CompositeChart):\n",
    "    for subplot in chart.elements:\n",
    "        print(f\"\\n\\ttype: {subplot.type}\")\n",
    "        print(f\"\\ttitle: {subplot.title}\")\n",
    "        if isinstance(subplot, BarChart):\n",
    "            print(f\"\\tx_label: {subplot.x_label}\")\n",
    "            print(f\"\\ty_label: {subplot.y_label}\")\n",
    "            print(\"\\telements:\")\n",
    "            for element in subplot.elements:\n",
    "                print(f\"\\n\\t\\tlabel: {element.label}\")\n",
    "                print(f\"\\t\\tgroup: {element.group}\")\n",
    "                print(f\"\\t\\tvalue: {element.value}\")\n",
    "        elif isinstance(subplot, LineChart):\n",
    "            print(f\"\\tx_label: {subplot.x_label}\")\n",
    "            print(f\"\\ty_label: {subplot.y_label}\")\n",
    "            print(f\"\\tx_ticks: {subplot.x_ticks}\")\n",
    "            print(f\"\\tx_tick_labels: {subplot.x_tick_labels}\")\n",
    "            print(f\"\\tx_scale: {subplot.x_scale}\")\n",
    "            print(f\"\\ty_ticks: {subplot.y_ticks}\")\n",
    "            print(f\"\\ty_tick_labels: {subplot.y_tick_labels}\")\n",
    "            print(f\"\\ty_scale: {subplot.y_scale}\")\n",
    "            print(\"\\telements:\")\n",
    "            for element in subplot.elements:\n",
    "                print(f\"\\n\\t\\tlabel: {element.label}\")\n",
    "                print(f\"\\t\\tpoints: {element.points}\")"
   ]
  },
  {
   "cell_type": "markdown",
   "metadata": {},
   "source": [
    "## File System\n",
    "\n",
    "- List Files\n",
    "- Create Folder\n",
    "- Upload File\n",
    "- Download File\n",
    "- Replace in Files\n",
    "- Search Files\n",
    "- Get File Info\n",
    "- Move Files\n",
    "- Delete File\n",
    "- Set File Permissions"
   ]
  },
  {
   "cell_type": "code",
   "execution_count": 8,
   "metadata": {},
   "outputs": [
    {
     "name": "stdout",
     "output_type": "stream",
     "text": [
      "[FileInfo(name='.bash_logout', is_dir=False, size=220, mod_time='2024-03-29 19:40:10 +0000 UTC', mode='-rw-r--r--', permissions='0644', owner='1001', group='1001', additional_properties={}),\n",
      " FileInfo(name='.bashrc', is_dir=False, size=3526, mod_time='2024-03-29 19:40:10 +0000 UTC', mode='-rw-r--r--', permissions='0644', owner='1001', group='1001', additional_properties={}),\n",
      " FileInfo(name='.cache', is_dir=True, size=4096, mod_time='2025-05-05 16:19:12.488119113 +0000 UTC', mode='drwxr-xr-x', permissions='0755', owner='1001', group='1001', additional_properties={}),\n",
      " FileInfo(name='.config', is_dir=True, size=4096, mod_time='2025-05-05 16:19:12.37911835 +0000 UTC', mode='drwxr-xr-x', permissions='0755', owner='1001', group='1001', additional_properties={}),\n",
      " FileInfo(name='.daytona', is_dir=True, size=4096, mod_time='2025-05-05 16:19:09.036094914 +0000 UTC', mode='drwxr-xr-x', permissions='0755', owner='1001', group='1001', additional_properties={}),\n",
      " FileInfo(name='.profile', is_dir=False, size=807, mod_time='2024-03-29 19:40:10 +0000 UTC', mode='-rw-r--r--', permissions='0644', owner='1001', group='1001', additional_properties={})]\n",
      "[Match(file='/home/daytona/new-dir/data.txt', line=1, content='Hello, World!', additional_properties={})]\n",
      "File content: Goodbye, World!\n",
      "FileInfo(name='data.txt', is_dir=False, size=15, mod_time='2025-05-05 16:19:19.046164916 +0000 UTC', mode='-rwxrwxrwx', permissions='0777', owner='1001', group='1001', additional_properties={})\n",
      "SearchFilesResponse(files=['/home/daytona/moved-data.txt'], additional_properties={})\n"
     ]
    }
   ],
   "source": [
    "# List files in the sandbox\n",
    "files = sandbox.fs.list_files(\"~\")\n",
    "pp(files)\n",
    "\n",
    "# Create a new directory in the sandbox\n",
    "new_dir = \"new-dir\"\n",
    "sandbox.fs.create_folder(new_dir, \"755\")\n",
    "\n",
    "file_path = os.path.join(new_dir, \"data.txt\")\n",
    "\n",
    "# Add a new file to the sandbox\n",
    "file_content = b\"Hello, World!\"\n",
    "sandbox.fs.upload_file(file_path, file_content)\n",
    "\n",
    "# Search for the file we just added\n",
    "matches = sandbox.fs.find_files(\"~\", \"World!\")\n",
    "pp(matches)\n",
    "\n",
    "# Replace the contents of the file\n",
    "sandbox.fs.replace_in_files([file_path], \"Hello, World!\", \"Goodbye, World!\")\n",
    "\n",
    "# Read the file\n",
    "downloaded_file = sandbox.fs.download_file(file_path)\n",
    "print(\"File content:\", downloaded_file.decode(\"utf-8\"))\n",
    "\n",
    "# Change the file permissions\n",
    "sandbox.fs.set_file_permissions(file_path, mode=\"777\")\n",
    "\n",
    "# Get file info\n",
    "file_info = sandbox.fs.get_file_info(file_path)\n",
    "pp(file_info)  # Should show the new permissions\n",
    "\n",
    "# Move the file to the new location\n",
    "new_file_path = \"moved-data.txt\"\n",
    "sandbox.fs.move_files(file_path, new_file_path)\n",
    "\n",
    "# Find the file in the new location\n",
    "search_results = sandbox.fs.search_files(\"~\", \"moved-data.txt\")\n",
    "pp(search_results)\n",
    "\n",
    "# Delete the file\n",
    "sandbox.fs.delete_file(new_file_path)"
   ]
  },
  {
   "cell_type": "markdown",
   "metadata": {},
   "source": [
    "## Git\n",
    "\n",
    "- Clone Repository\n",
    "- Pull Repository\n",
    "- List Branches\n",
    "- Delete a Branch\n",
    "- Create a Branch\n",
    "- Checkout a Branch\n",
    "- Git Log\n",
    "- Git Status\n",
    "- Git Add\n",
    "- Git Commit"
   ]
  },
  {
   "cell_type": "code",
   "execution_count": 9,
   "metadata": {},
   "outputs": [
    {
     "name": "stdout",
     "output_type": "stream",
     "text": [
      "ListBranchResponse(branches=['master'], additional_properties={})\n"
     ]
    }
   ],
   "source": [
    "project_dir = \"learn-typescript\"\n",
    "\n",
    "# Clone the repository\n",
    "sandbox.git.clone(\"https://github.com/panaverse/learn-typescript\", project_dir, \"master\")\n",
    "\n",
    "sandbox.git.pull(project_dir)\n",
    "\n",
    "branches = sandbox.git.branches(project_dir)\n",
    "pp(branches)"
   ]
  },
  {
   "cell_type": "markdown",
   "metadata": {},
   "source": [
    "## LSP\n",
    "\n",
    "- Start Language Server\n",
    "- Notify Language Server of Document Change\n",
    "- Get Completions\n",
    "- Document Symbols\n",
    "- Workspace Symbols"
   ]
  },
  {
   "cell_type": "code",
   "execution_count": 10,
   "metadata": {},
   "outputs": [
    {
     "name": "stdout",
     "output_type": "stream",
     "text": [
      "Matches: [Match(file='/home/daytona/learn-typescript/step13b_abstract_classes/app.ts', line=11, content='var obj1 = new Base();//Error, cannnot create a instance of a Abstract class', additional_properties={})]\n",
      "Symbols: [LspSymbol(kind=5, location=LspLocation(range=Range(start=Position(line=1, character=0, additional_properties={}), end=Position(line=4, character=1, additional_properties={}), additional_properties={}), uri='file:///home/daytona/learn-typescript/step13b_abstract_classes/app.ts', additional_properties={}), name='Base', additional_properties={}), LspSymbol(kind=6, location=LspLocation(range=Range(start=Position(line=3, character=4, additional_properties={}), end=Position(line=3, character=28, additional_properties={}), additional_properties={}), uri='file:///home/daytona/learn-typescript/step13b_abstract_classes/app.ts', additional_properties={}), name='bar', additional_properties={}), LspSymbol(kind=6, location=LspLocation(range=Range(start=Position(line=2, character=4, additional_properties={}), end=Position(line=2, character=40, additional_properties={}), additional_properties={}), uri='file:///home/daytona/learn-typescript/step13b_abstract_classes/app.ts', additional_properties={}), name='foo', additional_properties={}), LspSymbol(kind=5, location=LspLocation(range=Range(start=Position(line=6, character=0, additional_properties={}), end=Position(line=8, character=1, additional_properties={}), additional_properties={}), uri='file:///home/daytona/learn-typescript/step13b_abstract_classes/app.ts', additional_properties={}), name='E', additional_properties={}), LspSymbol(kind=6, location=LspLocation(range=Range(start=Position(line=7, character=4, additional_properties={}), end=Position(line=7, character=23, additional_properties={}), additional_properties={}), uri='file:///home/daytona/learn-typescript/step13b_abstract_classes/app.ts', additional_properties={}), name='bar', additional_properties={}), LspSymbol(kind=13, location=LspLocation(range=Range(start=Position(line=10, character=4, additional_properties={}), end=Position(line=10, character=21, additional_properties={}), additional_properties={}), uri='file:///home/daytona/learn-typescript/step13b_abstract_classes/app.ts', additional_properties={}), name='obj1', additional_properties={})]\n",
      "Completions: is_incomplete=False items=[CompletionItem(label='bar', kind=2, detail=None, documentation=None, sort_text='11', filter_text=None, insert_text=None, additional_properties={}), CompletionItem(label='foo', kind=2, detail=None, documentation=None, sort_text='11', filter_text=None, insert_text=None, additional_properties={})] additional_properties={}\n"
     ]
    }
   ],
   "source": [
    "project_dir = \"learn-typescript\"\n",
    "\n",
    "# Search for the file we want to work on\n",
    "matches = sandbox.fs.find_files(project_dir, \"var obj1 = new Base();\")\n",
    "print(\"Matches:\", matches)\n",
    "\n",
    "# Start the language server\n",
    "lsp = sandbox.create_lsp_server(\"typescript\", project_dir)\n",
    "lsp.start()\n",
    "\n",
    "# Notify the language server of the document we want to work on\n",
    "lsp.did_open(matches[0].file)\n",
    "\n",
    "# Get symbols in the document\n",
    "symbols = lsp.document_symbols(matches[0].file)\n",
    "print(\"Symbols:\", symbols)\n",
    "\n",
    "# Fix the error in the document\n",
    "sandbox.fs.replace_in_files([matches[0].file], \"var obj1 = new Base();\", \"var obj1 = new E();\")\n",
    "\n",
    "# Notify the language server of the document change\n",
    "lsp.did_close(matches[0].file)\n",
    "lsp.did_open(matches[0].file)\n",
    "\n",
    "# Get completions at a specific position\n",
    "completions = lsp.completions(matches[0].file, {\"line\": 12, \"character\": 18})\n",
    "print(\"Completions:\", completions)"
   ]
  },
  {
   "cell_type": "markdown",
   "metadata": {},
   "source": [
    "## Sandbox Management\n",
    "\n",
    "- List Sandboxes\n",
    "- Stop Sandbox\n",
    "- Start Sandbox\n",
    "- Remove Sandbox"
   ]
  },
  {
   "cell_type": "code",
   "execution_count": 11,
   "metadata": {},
   "outputs": [
    {
     "name": "stdout",
     "output_type": "stream",
     "text": [
      "Total sandboxes count: 3\n",
      "1638856c-2230-431a-bc3c-c788294274a2\n",
      "SandboxInfo(created='2025-05-05T16:19:07.586Z', name='', provider_metadata='{\"state\":\"started\",\"nodeDomain\":\"h1066.daytona.work\",\"region\":\"us\",\"class\":\"small\",\"updatedAt\":\"2025-05-05T16:19:29.140Z\",\"lastSnapshot\":null,\"cpu\":2,\"gpu\":0,\"memory\":4,\"disk\":10,\"autoStopInterval\":15}', additional_properties={}, id='1638856c-2230-431a-bc3c-c788294274a2', image='daytonaio/ai-test:0.2.3', user='daytona', env={}, labels={}, public=False, target=<SandboxTargetRegion.US: 'us'>, resources=SandboxResources(cpu='2', memory='4Gi', disk='10Gi', gpu=None), state=<WorkspaceState.STARTED: 'started'>, error_reason=None, snapshot_state='None', snapshot_created_at=None, node_domain='h1066.daytona.work', region='us', class_name='small', updated_at='2025-05-05T16:19:29.140Z', last_snapshot=None, auto_stop_interval=15)\n",
      "\n",
      "e6b9ce0e-c34c-4752-9176-d80a28ddd6f0\n",
      "SandboxInfo(created='2025-05-05T16:15:21.475Z', name='', provider_metadata='{\"state\":\"started\",\"nodeDomain\":\"h1058.daytona.work\",\"region\":\"us\",\"class\":\"small\",\"updatedAt\":\"2025-05-05T16:19:29.482Z\",\"lastSnapshot\":null,\"cpu\":2,\"gpu\":0,\"memory\":4,\"disk\":10,\"autoStopInterval\":15}', additional_properties={}, id='e6b9ce0e-c34c-4752-9176-d80a28ddd6f0', image='daytonaio/ai-test:0.2.3', user='daytona', env={}, labels={}, public=False, target=<SandboxTargetRegion.US: 'us'>, resources=SandboxResources(cpu='2', memory='4Gi', disk='10Gi', gpu=None), state=<WorkspaceState.STARTED: 'started'>, error_reason=None, snapshot_state='None', snapshot_created_at=None, node_domain='h1058.daytona.work', region='us', class_name='small', updated_at='2025-05-05T16:19:29.482Z', last_snapshot=None, auto_stop_interval=15)\n",
      "\n",
      "3c78836e-6b14-4e0a-9e57-42c41d9bd2c4\n",
      "SandboxInfo(created='2025-05-05T16:14:05.461Z', name='', provider_metadata='{\"state\":\"started\",\"nodeDomain\":\"h1047.daytona.work\",\"region\":\"us\",\"class\":\"small\",\"updatedAt\":\"2025-05-05T16:19:29.707Z\",\"lastSnapshot\":\"2025-05-05T16:15:40.553Z\",\"cpu\":2,\"gpu\":0,\"memory\":4,\"disk\":10,\"autoStopInterval\":15}', additional_properties={}, id='3c78836e-6b14-4e0a-9e57-42c41d9bd2c4', image='daytonaio/ai-test:0.2.3', user='daytona', env={}, labels={}, public=False, target=<SandboxTargetRegion.US: 'us'>, resources=SandboxResources(cpu='2', memory='4Gi', disk='10Gi', gpu=None), state=<WorkspaceState.STARTED: 'started'>, error_reason=None, snapshot_state='Completed', snapshot_created_at='2025-05-05T16:15:40.553Z', node_domain='h1047.daytona.work', region='us', class_name='small', updated_at='2025-05-05T16:19:29.707Z', last_snapshot='2025-05-05T16:15:40.553Z', auto_stop_interval=15)\n",
      "\n"
     ]
    }
   ],
   "source": [
    "sandboxes = daytona.list()\n",
    "print(f\"Total sandboxes count: {len(sandboxes)}\")\n",
    "\n",
    "for s in sandboxes:\n",
    "    print(s.id)\n",
    "    pp(s.info())\n",
    "    print()"
   ]
  },
  {
   "cell_type": "code",
   "execution_count": 12,
   "metadata": {},
   "outputs": [],
   "source": [
    "daytona.stop(sandbox)"
   ]
  },
  {
   "cell_type": "code",
   "execution_count": 13,
   "metadata": {},
   "outputs": [],
   "source": [
    "daytona.start(sandbox)"
   ]
  },
  {
   "cell_type": "code",
   "execution_count": 14,
   "metadata": {},
   "outputs": [],
   "source": [
    "daytona.delete(sandbox)"
   ]
  }
 ],
 "metadata": {
  "kernelspec": {
   "display_name": "Python 3",
   "language": "python",
   "name": "python3"
  },
  "language_info": {
   "codemirror_mode": {
    "name": "ipython",
    "version": 3
   },
   "file_extension": ".py",
   "mimetype": "text/x-python",
   "name": "python",
   "nbconvert_exporter": "python",
   "pygments_lexer": "ipython3",
   "version": "3.10.16"
  }
 },
 "nbformat": 4,
 "nbformat_minor": 2
}
